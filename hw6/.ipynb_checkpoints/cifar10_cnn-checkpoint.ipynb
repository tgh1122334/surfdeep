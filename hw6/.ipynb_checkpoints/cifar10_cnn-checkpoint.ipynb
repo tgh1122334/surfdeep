{
 "cells": [
  {
   "cell_type": "code",
   "execution_count": 6,
   "metadata": {},
   "outputs": [
    {
     "name": "stdout",
     "output_type": "stream",
     "text": [
      "x_train shape: (50000, 32, 32, 3)\n",
      "50000 train samples\n",
      "10000 test samples\n"
     ]
    }
   ],
   "source": [
    "from __future__ import print_function\n",
    "import keras\n",
    "from keras.datasets import cifar10\n",
    "from keras.preprocessing.image import ImageDataGenerator\n",
    "from keras.models import Sequential\n",
    "from keras.layers import Dense, Dropout, Activation, Flatten\n",
    "from keras.layers import Conv2D, MaxPooling2D\n",
    "import os\n",
    "\n",
    "batch_size = 32\n",
    "num_classes = 10\n",
    "epochs = 100\n",
    "data_augmentation = True\n",
    "num_predictions = 20\n",
    "save_dir = os.path.join(os.getcwd(), 'saved_models')\n",
    "model_name = 'keras_cifar10_trained_model.h5'\n",
    "\n",
    "# The data, split between train and test sets:\n",
    "(x_train, y_train), (x_test, y_test) = cifar10.load_data()\n",
    "print('x_train shape:', x_train.shape)\n",
    "print(x_train.shape[0], 'train samples')\n",
    "print(x_test.shape[0], 'test samples')"
   ]
  },
  {
   "cell_type": "code",
   "execution_count": 7,
   "metadata": {},
   "outputs": [
    {
     "name": "stdout",
     "output_type": "stream",
     "text": [
      "10000 test samples\n"
     ]
    }
   ],
   "source": [
    "\n",
    "print(x_test.shape[0], 'test samples')\n",
    "\n",
    "# Convert class vectors to binary class matrices.\n",
    "y_train = keras.utils.to_categorical(y_train, num_classes)\n",
    "y_test = keras.utils.to_categorical(y_test, num_classes)"
   ]
  },
  {
   "cell_type": "code",
   "execution_count": 9,
   "metadata": {
    "collapsed": true
   },
   "outputs": [],
   "source": [
    "model = Sequential()\n",
    "model.add(Conv2D(32, (3, 3), padding='same',\n",
    "                 input_shape=x_train.shape[1:]))\n",
    "model.add(Activation('relu'))\n",
    "model.add(Conv2D(32, (3, 3)))\n",
    "model.add(Activation('relu'))\n",
    "model.add(MaxPooling2D(pool_size=(2, 2)))\n",
    "model.add(Dropout(0.25))\n",
    "\n",
    "model.add(Conv2D(64, (3, 3), padding='same'))\n",
    "model.add(Activation('relu'))\n",
    "model.add(Conv2D(64, (3, 3)))\n",
    "model.add(Activation('relu'))\n",
    "model.add(MaxPooling2D(pool_size=(2, 2)))\n",
    "model.add(Dropout(0.25))\n",
    "\n",
    "model.add(Flatten())\n",
    "model.add(Dense(512))\n",
    "model.add(Activation('relu'))\n",
    "model.add(Dropout(0.5))\n",
    "model.add(Dense(num_classes))\n",
    "model.add(Activation('softmax'))\n",
    "\n",
    "# initiate RMSprop optimizer\n",
    "opt = keras.optimizers.rmsprop(lr=0.0001, decay=1e-6)\n",
    "\n",
    "# Let's train the model using RMSprop\n",
    "model.compile(loss='categorical_crossentropy',\n",
    "              optimizer=opt,\n",
    "              metrics=['accuracy'])\n",
    "x_train = x_train.astype('float32')\n",
    "x_test = x_test.astype('float32')\n",
    "x_train /= 255\n",
    "x_test /= 255"
   ]
  },
  {
   "cell_type": "code",
   "execution_count": null,
   "metadata": {},
   "outputs": [
    {
     "name": "stdout",
     "output_type": "stream",
     "text": [
      "Using real-time data augmentation.\n",
      "Epoch 1/100\n",
      "1563/1563 [==============================] - 31s 20ms/step - loss: 1.8578 - acc: 0.3165 - val_loss: 1.5270 - val_acc: 0.4448\n",
      "Epoch 2/100\n",
      "1563/1563 [==============================] - 28s 18ms/step - loss: 1.5621 - acc: 0.4289 - val_loss: 1.4466 - val_acc: 0.4677\n",
      "Epoch 3/100\n",
      "1563/1563 [==============================] - 28s 18ms/step - loss: 1.4477 - acc: 0.4771 - val_loss: 1.3206 - val_acc: 0.5203\n",
      "Epoch 4/100\n",
      "1563/1563 [==============================] - 28s 18ms/step - loss: 1.3703 - acc: 0.5104 - val_loss: 1.2136 - val_acc: 0.5699\n",
      "Epoch 5/100\n",
      "1563/1563 [==============================] - 28s 18ms/step - loss: 1.3067 - acc: 0.5345 - val_loss: 1.2021 - val_acc: 0.5759\n",
      "Epoch 6/100\n",
      "1563/1563 [==============================] - 29s 18ms/step - loss: 1.2478 - acc: 0.5569 - val_loss: 1.1986 - val_acc: 0.5857\n",
      "Epoch 7/100\n",
      "1563/1563 [==============================] - 28s 18ms/step - loss: 1.2050 - acc: 0.5722 - val_loss: 1.0953 - val_acc: 0.6173\n",
      "Epoch 8/100\n",
      "1563/1563 [==============================] - 29s 18ms/step - loss: 1.1651 - acc: 0.5883 - val_loss: 1.0453 - val_acc: 0.6338\n",
      "Epoch 9/100\n",
      "1563/1563 [==============================] - 28s 18ms/step - loss: 1.1300 - acc: 0.5993 - val_loss: 1.0344 - val_acc: 0.6341\n",
      "Epoch 10/100\n",
      "1563/1563 [==============================] - 28s 18ms/step - loss: 1.0930 - acc: 0.6127 - val_loss: 0.9590 - val_acc: 0.6606\n",
      "Epoch 11/100\n",
      "1563/1563 [==============================] - 28s 18ms/step - loss: 1.0684 - acc: 0.6192 - val_loss: 0.9719 - val_acc: 0.6544\n",
      "Epoch 12/100\n",
      "1563/1563 [==============================] - 29s 18ms/step - loss: 1.0462 - acc: 0.6301 - val_loss: 0.9303 - val_acc: 0.6712\n",
      "Epoch 13/100\n",
      "1563/1563 [==============================] - 29s 19ms/step - loss: 1.0253 - acc: 0.6403 - val_loss: 0.8816 - val_acc: 0.6880\n",
      "Epoch 14/100\n",
      "1563/1563 [==============================] - 29s 19ms/step - loss: 1.0052 - acc: 0.6485 - val_loss: 0.8972 - val_acc: 0.6824\n",
      "Epoch 15/100\n",
      "1563/1563 [==============================] - 29s 19ms/step - loss: 0.9848 - acc: 0.6551 - val_loss: 0.9097 - val_acc: 0.6757\n",
      "Epoch 16/100\n",
      "1563/1563 [==============================] - 27s 17ms/step - loss: 0.9674 - acc: 0.6605 - val_loss: 0.8504 - val_acc: 0.7024\n",
      "Epoch 17/100\n",
      "1563/1563 [==============================] - 26s 17ms/step - loss: 0.9575 - acc: 0.6651 - val_loss: 0.8386 - val_acc: 0.7064\n",
      "Epoch 18/100\n",
      "1563/1563 [==============================] - 26s 17ms/step - loss: 0.9476 - acc: 0.6691 - val_loss: 0.8197 - val_acc: 0.7132\n",
      "Epoch 19/100\n",
      "1563/1563 [==============================] - 26s 17ms/step - loss: 0.9304 - acc: 0.6749 - val_loss: 0.7985 - val_acc: 0.7199\n",
      "Epoch 20/100\n",
      "1563/1563 [==============================] - 27s 17ms/step - loss: 0.9181 - acc: 0.6797 - val_loss: 0.8486 - val_acc: 0.7041\n",
      "Epoch 21/100\n",
      "1563/1563 [==============================] - 28s 18ms/step - loss: 0.9062 - acc: 0.6854 - val_loss: 0.8387 - val_acc: 0.7113\n",
      "Epoch 22/100\n",
      "1563/1563 [==============================] - 27s 17ms/step - loss: 0.9094 - acc: 0.6858 - val_loss: 0.8670 - val_acc: 0.7010\n",
      "Epoch 23/100\n",
      "1563/1563 [==============================] - 29s 18ms/step - loss: 0.8967 - acc: 0.6872 - val_loss: 0.7918 - val_acc: 0.7275\n",
      "Epoch 24/100\n",
      "1563/1563 [==============================] - 29s 19ms/step - loss: 0.8864 - acc: 0.6945 - val_loss: 0.7674 - val_acc: 0.7362\n",
      "Epoch 25/100\n",
      "1563/1563 [==============================] - 28s 18ms/step - loss: 0.8863 - acc: 0.6961 - val_loss: 0.7697 - val_acc: 0.7305\n",
      "Epoch 26/100\n",
      "1563/1563 [==============================] - 28s 18ms/step - loss: 0.8767 - acc: 0.6980 - val_loss: 0.7740 - val_acc: 0.7382\n",
      "Epoch 27/100\n",
      "1563/1563 [==============================] - 27s 17ms/step - loss: 0.8683 - acc: 0.7029 - val_loss: 0.7607 - val_acc: 0.7412\n",
      "Epoch 28/100\n",
      "1563/1563 [==============================] - 27s 18ms/step - loss: 0.8649 - acc: 0.7014 - val_loss: 0.7453 - val_acc: 0.7463\n",
      "Epoch 29/100\n",
      "1563/1563 [==============================] - 27s 17ms/step - loss: 0.8570 - acc: 0.7065 - val_loss: 0.7378 - val_acc: 0.7491\n",
      "Epoch 30/100\n",
      "1563/1563 [==============================] - 27s 18ms/step - loss: 0.8552 - acc: 0.7062 - val_loss: 0.7432 - val_acc: 0.7471\n",
      "Epoch 31/100\n",
      "1563/1563 [==============================] - 27s 17ms/step - loss: 0.8506 - acc: 0.7098 - val_loss: 0.7745 - val_acc: 0.7348\n",
      "Epoch 32/100\n",
      "1563/1563 [==============================] - 27s 17ms/step - loss: 0.8466 - acc: 0.7115 - val_loss: 0.7839 - val_acc: 0.7451\n",
      "Epoch 33/100\n",
      "1563/1563 [==============================] - 27s 17ms/step - loss: 0.8446 - acc: 0.7109 - val_loss: 0.7520 - val_acc: 0.7455\n",
      "Epoch 34/100\n",
      "1563/1563 [==============================] - 28s 18ms/step - loss: 0.8395 - acc: 0.7123 - val_loss: 0.7987 - val_acc: 0.7260\n",
      "Epoch 35/100\n",
      "1563/1563 [==============================] - 27s 17ms/step - loss: 0.8327 - acc: 0.7155 - val_loss: 0.7601 - val_acc: 0.7473\n",
      "Epoch 36/100\n",
      "1563/1563 [==============================] - 27s 17ms/step - loss: 0.8326 - acc: 0.7150 - val_loss: 0.7359 - val_acc: 0.7573\n",
      "Epoch 37/100\n",
      "1563/1563 [==============================] - 27s 17ms/step - loss: 0.8261 - acc: 0.7160 - val_loss: 0.7183 - val_acc: 0.7549\n",
      "Epoch 38/100\n",
      "1563/1563 [==============================] - 27s 17ms/step - loss: 0.8332 - acc: 0.7186 - val_loss: 0.7646 - val_acc: 0.7408\n",
      "Epoch 39/100\n",
      "1563/1563 [==============================] - 28s 18ms/step - loss: 0.8300 - acc: 0.7192 - val_loss: 0.7465 - val_acc: 0.7473\n",
      "Epoch 40/100\n",
      "1563/1563 [==============================] - 28s 18ms/step - loss: 0.8234 - acc: 0.7190 - val_loss: 0.7426 - val_acc: 0.7497\n",
      "Epoch 41/100\n",
      "1563/1563 [==============================] - 27s 17ms/step - loss: 0.8200 - acc: 0.7225 - val_loss: 0.7668 - val_acc: 0.7419\n",
      "Epoch 42/100\n",
      "1563/1563 [==============================] - 28s 18ms/step - loss: 0.8201 - acc: 0.7203 - val_loss: 0.7288 - val_acc: 0.7517\n",
      "Epoch 43/100\n",
      "1563/1563 [==============================] - 29s 18ms/step - loss: 0.8137 - acc: 0.7258 - val_loss: 0.7119 - val_acc: 0.7617\n",
      "Epoch 44/100\n",
      " 741/1563 [=============>................] - ETA: 43:58 - loss: 0.8212 - acc: 0.7227"
     ]
    }
   ],
   "source": [
    "if not data_augmentation:\n",
    "    print('Not using data augmentation.')\n",
    "    model.fit(x_train, y_train,\n",
    "              batch_size=batch_size,\n",
    "              epochs=epochs,\n",
    "              validation_data=(x_test, y_test),\n",
    "              shuffle=True)\n",
    "else:\n",
    "    print('Using real-time data augmentation.')\n",
    "    # This will do preprocessing and realtime data augmentation:\n",
    "    datagen = ImageDataGenerator(\n",
    "        featurewise_center=False,  # set input mean to 0 over the dataset\n",
    "        samplewise_center=False,  # set each sample mean to 0\n",
    "        featurewise_std_normalization=False,  # divide inputs by std of the dataset\n",
    "        samplewise_std_normalization=False,  # divide each input by its std\n",
    "        zca_whitening=False,  # apply ZCA whitening\n",
    "        rotation_range=0,  # randomly rotate images in the range (degrees, 0 to 180)\n",
    "        width_shift_range=0.1,  # randomly shift images horizontally (fraction of total width)\n",
    "        height_shift_range=0.1,  # randomly shift images vertically (fraction of total height)\n",
    "        horizontal_flip=True,  # randomly flip images\n",
    "        vertical_flip=False)  # randomly flip images\n",
    "\n",
    "    # Compute quantities required for feature-wise normalization\n",
    "    # (std, mean, and principal components if ZCA whitening is applied).\n",
    "    datagen.fit(x_train)\n",
    "\n",
    "    # Fit the model on the batches generated by datagen.flow().\n",
    "    model.fit_generator(datagen.flow(x_train, y_train,\n",
    "                                     batch_size=batch_size),\n",
    "                        epochs=epochs,\n",
    "                        validation_data=(x_test, y_test),\n",
    "                        workers=4)"
   ]
  },
  {
   "cell_type": "code",
   "execution_count": 1,
   "metadata": {},
   "outputs": [
    {
     "ename": "NameError",
     "evalue": "name 'model' is not defined",
     "output_type": "error",
     "traceback": [
      "\u001b[0;31m---------------------------------------------------------------------------\u001b[0m",
      "\u001b[0;31mNameError\u001b[0m                                 Traceback (most recent call last)",
      "\u001b[0;32m<ipython-input-1-5b3d3f2effbc>\u001b[0m in \u001b[0;36m<module>\u001b[0;34m()\u001b[0m\n\u001b[1;32m      1\u001b[0m \u001b[0;31m# Score trained model.\u001b[0m\u001b[0;34m\u001b[0m\u001b[0;34m\u001b[0m\u001b[0m\n\u001b[0;32m----> 2\u001b[0;31m \u001b[0mscores\u001b[0m \u001b[0;34m=\u001b[0m \u001b[0mmodel\u001b[0m\u001b[0;34m.\u001b[0m\u001b[0mevaluate\u001b[0m\u001b[0;34m(\u001b[0m\u001b[0mx_test\u001b[0m\u001b[0;34m,\u001b[0m \u001b[0my_test\u001b[0m\u001b[0;34m,\u001b[0m \u001b[0mverbose\u001b[0m\u001b[0;34m=\u001b[0m\u001b[0;36m1\u001b[0m\u001b[0;34m)\u001b[0m\u001b[0;34m\u001b[0m\u001b[0m\n\u001b[0m\u001b[1;32m      3\u001b[0m \u001b[0mprint\u001b[0m\u001b[0;34m(\u001b[0m\u001b[0;34m'Test loss:'\u001b[0m\u001b[0;34m,\u001b[0m \u001b[0mscores\u001b[0m\u001b[0;34m[\u001b[0m\u001b[0;36m0\u001b[0m\u001b[0;34m]\u001b[0m\u001b[0;34m)\u001b[0m\u001b[0;34m\u001b[0m\u001b[0m\n\u001b[1;32m      4\u001b[0m \u001b[0mprint\u001b[0m\u001b[0;34m(\u001b[0m\u001b[0;34m'Test accuracy:'\u001b[0m\u001b[0;34m,\u001b[0m \u001b[0mscores\u001b[0m\u001b[0;34m[\u001b[0m\u001b[0;36m1\u001b[0m\u001b[0;34m]\u001b[0m\u001b[0;34m)\u001b[0m\u001b[0;34m\u001b[0m\u001b[0m\n",
      "\u001b[0;31mNameError\u001b[0m: name 'model' is not defined"
     ]
    }
   ],
   "source": [
    "# Score trained model.\n",
    "scores = model.evaluate(x_test, y_test, verbose=1)\n",
    "print('Test loss:', scores[0])\n",
    "print('Test accuracy:', scores[1])"
   ]
  },
  {
   "cell_type": "code",
   "execution_count": null,
   "metadata": {
    "collapsed": true
   },
   "outputs": [],
   "source": []
  }
 ],
 "metadata": {
  "kernelspec": {
   "display_name": "Python 3",
   "language": "python",
   "name": "python3"
  },
  "language_info": {
   "codemirror_mode": {
    "name": "ipython",
    "version": 3
   },
   "file_extension": ".py",
   "mimetype": "text/x-python",
   "name": "python",
   "nbconvert_exporter": "python",
   "pygments_lexer": "ipython3",
   "version": "3.6.4"
  }
 },
 "nbformat": 4,
 "nbformat_minor": 2
}
