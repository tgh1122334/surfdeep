{
 "cells": [
  {
   "cell_type": "code",
   "execution_count": 6,
   "metadata": {},
   "outputs": [
    {
     "name": "stderr",
     "output_type": "stream",
     "text": [
      "IOPub data rate exceeded.\n",
      "The notebook server will temporarily stop sending output\n",
      "to the client in order to avoid crashing it.\n",
      "To change this limit, set the config variable\n",
      "`--NotebookApp.iopub_data_rate_limit`.\n"
     ]
    }
   ],
   "source": [
    "#load modules\n",
    "import plotly\n",
    "import plotly.graph_objs as go\n",
    "plotly.tools.set_credentials_file(username='tgh1122334', api_key='1avaJWccIpBpj7UDpWjx')\n",
    "\n",
    "from plotly.offline import init_notebook_mode, plot, iplot\n",
    "init_notebook_mode(connected=False)\n",
    "\n",
    "import pandas_datareader as web\n",
    "from datetime import datetime\n",
    "from datetime import timedelta\n",
    "\n",
    "import quandl\n",
    "quandl.ApiConfig.api_key = 'nsy8rWAh437rbeYNtmnX'\n",
    "import pandas as pd\n",
    "import numpy as np\n",
    "import time\n",
    "import os\n",
    "\n",
    "import plotly.offline as offline\n",
    "offline.init_notebook_mode()\n",
    "\n",
    "from IPython.display import clear_output"
   ]
  },
  {
   "cell_type": "code",
   "execution_count": 7,
   "metadata": {},
   "outputs": [
    {
     "data": {
      "application/vnd.plotly.v1+json": {
       "data": [
        {
         "close": [
          71.73,
          71.23,
          72.06,
          72.19,
          73.07,
          73.48,
          73.44,
          73.58,
          73.86,
          74.82,
          74.53,
          72.99,
          73.43,
          72.83,
          71.25,
          68.22,
          68.45,
          68.06,
          65.05,
          66.98,
          68.43,
          68.34,
          69.7,
          72.02,
          71.97,
          71.08,
          71.25,
          70.68,
          70.7,
          70.58
         ],
         "high": [
          71.86,
          72.47,
          72.31,
          72.5,
          73.215,
          73.55,
          74.075,
          73.86,
          74.49,
          74.83,
          75,
          74.08,
          74.39,
          73.78,
          72.76,
          71.48,
          68.83,
          69.085,
          68.16,
          67.53,
          69.05,
          68.49,
          69.89,
          74.99,
          72.7,
          71.85,
          72.7,
          71.76,
          71.37,
          71.21
         ],
         "low": [
          70.5,
          71.06,
          71.59,
          71.67,
          72.06,
          72.6,
          73.25,
          73.05,
          73.65,
          73.59,
          74.3,
          72.93,
          73.24,
          72.51,
          71.22,
          68.18,
          66.13,
          67.905,
          65.03,
          65.29,
          67.37,
          67.66,
          67.62,
          71.22,
          71.6207,
          70.7,
          70.97,
          70.51,
          70.06,
          70.01
         ],
         "open": [
          70.73,
          72.02,
          71.72,
          72.2,
          72.48,
          73.17,
          74.05,
          73.66,
          74.17,
          74.3,
          74.48,
          73.99,
          73.77,
          73.18,
          72.32,
          70.86,
          66.96,
          68.19,
          68.09,
          66.4,
          67.46,
          67.97,
          67.8,
          74.94,
          71.97,
          71.5,
          71.12,
          71.72,
          71.15,
          71
         ],
         "type": "candlestick",
         "x": [
          "2018-01-12",
          "2018-01-16",
          "2018-01-17",
          "2018-01-18",
          "2018-01-19",
          "2018-01-22",
          "2018-01-23",
          "2018-01-24",
          "2018-01-25",
          "2018-01-26",
          "2018-01-29",
          "2018-01-30",
          "2018-01-31",
          "2018-02-01",
          "2018-02-02",
          "2018-02-05",
          "2018-02-06",
          "2018-02-07",
          "2018-02-08",
          "2018-02-09",
          "2018-02-12",
          "2018-02-13",
          "2018-02-14",
          "2018-02-15",
          "2018-02-16",
          "2018-02-20",
          "2018-02-21",
          "2018-02-22",
          "2018-02-23",
          "2018-02-26"
         ]
        }
       ],
       "layout": {
        "showlegend": false
       }
      },
      "text/html": [
       "<div id=\"d263aad4-8e42-48fe-8fc9-1994e5b6a53f\" style=\"height: 525px; width: 100%;\" class=\"plotly-graph-div\"></div><script type=\"text/javascript\">require([\"plotly\"], function(Plotly) { window.PLOTLYENV=window.PLOTLYENV || {};window.PLOTLYENV.BASE_URL=\"https://plot.ly\";Plotly.newPlot(\"d263aad4-8e42-48fe-8fc9-1994e5b6a53f\", [{\"type\": \"candlestick\", \"x\": [\"2018-01-12\", \"2018-01-16\", \"2018-01-17\", \"2018-01-18\", \"2018-01-19\", \"2018-01-22\", \"2018-01-23\", \"2018-01-24\", \"2018-01-25\", \"2018-01-26\", \"2018-01-29\", \"2018-01-30\", \"2018-01-31\", \"2018-02-01\", \"2018-02-02\", \"2018-02-05\", \"2018-02-06\", \"2018-02-07\", \"2018-02-08\", \"2018-02-09\", \"2018-02-12\", \"2018-02-13\", \"2018-02-14\", \"2018-02-15\", \"2018-02-16\", \"2018-02-20\", \"2018-02-21\", \"2018-02-22\", \"2018-02-23\", \"2018-02-26\"], \"open\": [70.73, 72.02, 71.72, 72.2, 72.48, 73.17, 74.05, 73.66, 74.17, 74.3, 74.48, 73.99, 73.77, 73.18, 72.32, 70.86, 66.96, 68.19, 68.09, 66.4, 67.46, 67.97, 67.8, 74.94, 71.97, 71.5, 71.12, 71.72, 71.15, 71.0], \"high\": [71.86, 72.47, 72.31, 72.5, 73.215, 73.55, 74.075, 73.86, 74.49, 74.83, 75.0, 74.08, 74.39, 73.78, 72.76, 71.48, 68.83, 69.085, 68.16, 67.53, 69.05, 68.49, 69.89, 74.99, 72.7, 71.85, 72.7, 71.76, 71.37, 71.21], \"low\": [70.5, 71.06, 71.59, 71.67, 72.06, 72.6, 73.25, 73.05, 73.65, 73.59, 74.3, 72.93, 73.24, 72.51, 71.22, 68.18, 66.13, 67.905, 65.03, 65.29, 67.37, 67.66, 67.62, 71.22, 71.6207, 70.7, 70.97, 70.51, 70.06, 70.01], \"close\": [71.73, 71.23, 72.06, 72.19, 73.07, 73.48, 73.44, 73.58, 73.86, 74.82, 74.53, 72.99, 73.43, 72.83, 71.25, 68.22, 68.45, 68.06, 65.05, 66.98, 68.43, 68.34, 69.7, 72.02, 71.97, 71.08, 71.25, 70.68, 70.7, 70.58]}], {\"showlegend\": false}, {\"showLink\": true, \"linkText\": \"Export to plot.ly\"})});</script>"
      ],
      "text/vnd.plotly.v1+html": [
       "<div id=\"d263aad4-8e42-48fe-8fc9-1994e5b6a53f\" style=\"height: 525px; width: 100%;\" class=\"plotly-graph-div\"></div><script type=\"text/javascript\">require([\"plotly\"], function(Plotly) { window.PLOTLYENV=window.PLOTLYENV || {};window.PLOTLYENV.BASE_URL=\"https://plot.ly\";Plotly.newPlot(\"d263aad4-8e42-48fe-8fc9-1994e5b6a53f\", [{\"type\": \"candlestick\", \"x\": [\"2018-01-12\", \"2018-01-16\", \"2018-01-17\", \"2018-01-18\", \"2018-01-19\", \"2018-01-22\", \"2018-01-23\", \"2018-01-24\", \"2018-01-25\", \"2018-01-26\", \"2018-01-29\", \"2018-01-30\", \"2018-01-31\", \"2018-02-01\", \"2018-02-02\", \"2018-02-05\", \"2018-02-06\", \"2018-02-07\", \"2018-02-08\", \"2018-02-09\", \"2018-02-12\", \"2018-02-13\", \"2018-02-14\", \"2018-02-15\", \"2018-02-16\", \"2018-02-20\", \"2018-02-21\", \"2018-02-22\", \"2018-02-23\", \"2018-02-26\"], \"open\": [70.73, 72.02, 71.72, 72.2, 72.48, 73.17, 74.05, 73.66, 74.17, 74.3, 74.48, 73.99, 73.77, 73.18, 72.32, 70.86, 66.96, 68.19, 68.09, 66.4, 67.46, 67.97, 67.8, 74.94, 71.97, 71.5, 71.12, 71.72, 71.15, 71.0], \"high\": [71.86, 72.47, 72.31, 72.5, 73.215, 73.55, 74.075, 73.86, 74.49, 74.83, 75.0, 74.08, 74.39, 73.78, 72.76, 71.48, 68.83, 69.085, 68.16, 67.53, 69.05, 68.49, 69.89, 74.99, 72.7, 71.85, 72.7, 71.76, 71.37, 71.21], \"low\": [70.5, 71.06, 71.59, 71.67, 72.06, 72.6, 73.25, 73.05, 73.65, 73.59, 74.3, 72.93, 73.24, 72.51, 71.22, 68.18, 66.13, 67.905, 65.03, 65.29, 67.37, 67.66, 67.62, 71.22, 71.6207, 70.7, 70.97, 70.51, 70.06, 70.01], \"close\": [71.73, 71.23, 72.06, 72.19, 73.07, 73.48, 73.44, 73.58, 73.86, 74.82, 74.53, 72.99, 73.43, 72.83, 71.25, 68.22, 68.45, 68.06, 65.05, 66.98, 68.43, 68.34, 69.7, 72.02, 71.97, 71.08, 71.25, 70.68, 70.7, 70.58]}], {\"showlegend\": false}, {\"showLink\": true, \"linkText\": \"Export to plot.ly\"})});</script>"
      ]
     },
     "metadata": {},
     "output_type": "display_data"
    },
    {
     "ename": "KeyboardInterrupt",
     "evalue": "",
     "output_type": "error",
     "traceback": [
      "\u001b[1;31m---------------------------------------------------------------------------\u001b[0m",
      "\u001b[1;31mKeyboardInterrupt\u001b[0m                         Traceback (most recent call last)",
      "\u001b[1;32m<ipython-input-7-27df160d083e>\u001b[0m in \u001b[0;36m<module>\u001b[1;34m()\u001b[0m\n\u001b[0;32m     32\u001b[0m                       \u001b[0mfilename\u001b[0m\u001b[1;33m=\u001b[0m\u001b[1;34m'plotly_'\u001b[0m\u001b[1;33m+\u001b[0m\u001b[0mdirlist\u001b[0m\u001b[1;33m[\u001b[0m\u001b[0mIter\u001b[0m\u001b[1;33m]\u001b[0m\u001b[1;33m+\u001b[0m\u001b[1;34m\"_\"\u001b[0m\u001b[1;33m+\u001b[0m\u001b[0mstr\u001b[0m\u001b[1;33m(\u001b[0m\u001b[0mll\u001b[0m\u001b[1;33m)\u001b[0m\u001b[1;33m,\u001b[0m\u001b[1;33m\u001b[0m\u001b[0m\n\u001b[0;32m     33\u001b[0m                       \u001b[0mimage_height\u001b[0m\u001b[1;33m=\u001b[0m\u001b[1;36m500\u001b[0m\u001b[1;33m,\u001b[0m\u001b[1;33m\u001b[0m\u001b[0m\n\u001b[1;32m---> 34\u001b[1;33m                       image_width=500)\n\u001b[0m\u001b[0;32m     35\u001b[0m         \u001b[0mpre_return\u001b[0m\u001b[1;33m.\u001b[0m\u001b[0mappend\u001b[0m\u001b[1;33m(\u001b[0m\u001b[1;33m(\u001b[0m\u001b[0msubdat\u001b[0m\u001b[1;33m.\u001b[0m\u001b[0mClose\u001b[0m\u001b[1;33m[\u001b[0m\u001b[0mpredate\u001b[0m\u001b[1;33m]\u001b[0m\u001b[1;33m-\u001b[0m\u001b[0msubdat\u001b[0m\u001b[1;33m.\u001b[0m\u001b[0mClose\u001b[0m\u001b[1;33m[\u001b[0m\u001b[0mi\u001b[0m\u001b[1;33m]\u001b[0m\u001b[1;33m)\u001b[0m\u001b[1;33m/\u001b[0m\u001b[0msubdat\u001b[0m\u001b[1;33m.\u001b[0m\u001b[0mClose\u001b[0m\u001b[1;33m[\u001b[0m\u001b[0mi\u001b[0m\u001b[1;33m]\u001b[0m\u001b[1;33m)\u001b[0m\u001b[1;33m\u001b[0m\u001b[0m\n\u001b[0;32m     36\u001b[0m         \u001b[0mi\u001b[0m\u001b[1;33m=\u001b[0m\u001b[0mj\u001b[0m\u001b[1;33m\u001b[0m\u001b[0m\n",
      "\u001b[1;32m~\\Anaconda3\\lib\\site-packages\\plotly\\offline\\offline.py\u001b[0m in \u001b[0;36miplot\u001b[1;34m(figure_or_data, show_link, link_text, validate, image, filename, image_width, image_height, config)\u001b[0m\n\u001b[0;32m    378\u001b[0m                                                            plot_id=plotdivid)\n\u001b[0;32m    379\u001b[0m         \u001b[1;31m# allow time for the plot to draw\u001b[0m\u001b[1;33m\u001b[0m\u001b[1;33m\u001b[0m\u001b[0m\n\u001b[1;32m--> 380\u001b[1;33m         \u001b[0mtime\u001b[0m\u001b[1;33m.\u001b[0m\u001b[0msleep\u001b[0m\u001b[1;33m(\u001b[0m\u001b[1;36m1\u001b[0m\u001b[1;33m)\u001b[0m\u001b[1;33m\u001b[0m\u001b[0m\n\u001b[0m\u001b[0;32m    381\u001b[0m         \u001b[1;31m# inject code to download an image of the plot\u001b[0m\u001b[1;33m\u001b[0m\u001b[1;33m\u001b[0m\u001b[0m\n\u001b[0;32m    382\u001b[0m         \u001b[0mipython_display\u001b[0m\u001b[1;33m.\u001b[0m\u001b[0mdisplay\u001b[0m\u001b[1;33m(\u001b[0m\u001b[0mipython_display\u001b[0m\u001b[1;33m.\u001b[0m\u001b[0mHTML\u001b[0m\u001b[1;33m(\u001b[0m\u001b[0mscript\u001b[0m\u001b[1;33m)\u001b[0m\u001b[1;33m)\u001b[0m\u001b[1;33m\u001b[0m\u001b[0m\n",
      "\u001b[1;31mKeyboardInterrupt\u001b[0m: "
     ]
    }
   ],
   "source": [
    "dirlist=os.listdir(\"datawarehouse/\")\n",
    "for Iter in range(1):\n",
    "    data=pd.read_csv(\"datawarehouse/\"+dirlist[Iter]).reset_index()\n",
    "    data.Date=pd.to_datetime(data.Date)\n",
    "\n",
    "    subdat=data[data.Date>=\"2016-01-01\"]\n",
    "    subdat.index=range(subdat.shape[0])\n",
    "\n",
    "    print(\"working on\"+dirlist[Iter])\n",
    "    i=0\n",
    "    pre_return=list()\n",
    "    #os.mkdir(\"figs\")\n",
    "    ll=1\n",
    "    while i in range(subdat.shape[0]):\n",
    "        j=i+30#end of day\n",
    "        predate=j+1\n",
    "        #ends if reaching end point\n",
    "        if predate>=(subdat.shape[0]-1):\n",
    "            break\n",
    "        tmpsubdf=subdat.iloc[i:j,]\n",
    "        trace = go.Candlestick(x=tmpsubdf.Date,\n",
    "                           open=tmpsubdf.Open,\n",
    "                           high=tmpsubdf.High,\n",
    "                           low=tmpsubdf.Low,\n",
    "                           close=tmpsubdf.Close)\n",
    "        tmpdat = [trace]\n",
    "        #py.image.save_as(Figure(data=tmpdat), \n",
    "        #                 filename='figs/'+dirlist[0]+\"_\"+str(ll)+'.png',width=500, height=500)\n",
    "        layout = go.Layout(showlegend=False)\n",
    "        offline.iplot(go.Figure(data=tmpdat,layout=layout),\n",
    "                      image='png',\n",
    "                      filename='plotly_'+dirlist[Iter]+\"_\"+str(ll),\n",
    "                      image_height=500,\n",
    "                      image_width=500)\n",
    "        pre_return.append((subdat.Close[predate]-subdat.Close[i])/subdat.Close[i])\n",
    "        i=j\n",
    "        ll=ll+1\n",
    "        time.sleep(3)\n",
    "        #clear output\n",
    "        clear_output()\n",
    "    #write list to file\n",
    "    outF = open(dirlist[Iter]+\".txt\", \"w\")\n",
    "    for line in pre_return:\n",
    "      # write line to output file\n",
    "      outF.write(str(line))\n",
    "      outF.write(\"\\n\")\n",
    "    outF.close()"
   ]
  },
  {
   "cell_type": "code",
   "execution_count": 3,
   "metadata": {},
   "outputs": [
    {
     "data": {
      "text/plain": [
       "'file:///media/li/data/bitbucket/surfdeep/finalProj/python_code/temp-plot.html'"
      ]
     },
     "execution_count": 3,
     "metadata": {},
     "output_type": "execute_result"
    }
   ],
   "source": [
    "offline.plot(go.Figure(data=tmpdat,layout=layout))"
   ]
  },
  {
   "cell_type": "code",
   "execution_count": null,
   "metadata": {
    "collapsed": true
   },
   "outputs": [],
   "source": [
    "offline.iplot(go.Figure(data=tmpdat,layout=layout),\n",
    "                      image='png',\n",
    "                      filename='plotly_'+dirlist[Iter]+\"_\"+str(ll),\n",
    "                      image_height=500,\n",
    "                      image_width=500)"
   ]
  },
  {
   "cell_type": "code",
   "execution_count": 4,
   "metadata": {},
   "outputs": [
    {
     "data": {
      "text/plain": [
       "2"
      ]
     },
     "execution_count": 4,
     "metadata": {},
     "output_type": "execute_result"
    }
   ],
   "source": [
    "1+1"
   ]
  },
  {
   "cell_type": "code",
   "execution_count": null,
   "metadata": {
    "collapsed": true
   },
   "outputs": [],
   "source": []
  }
 ],
 "metadata": {
  "kernelspec": {
   "display_name": "Python 3",
   "language": "python",
   "name": "python3"
  }
 },
 "nbformat": 4,
 "nbformat_minor": 2
}
