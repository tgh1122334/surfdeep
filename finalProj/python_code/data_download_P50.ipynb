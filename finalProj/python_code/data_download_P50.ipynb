{
 "cells": [
  {
   "cell_type": "code",
   "execution_count": null,
   "metadata": {},
   "outputs": [],
   "source": [
    "#load modules\n",
    "import plotly\n",
    "import plotly.graph_objs as go\n",
    "plotly.tools.set_credentials_file(username='tgh1122334', api_key='1avaJWccIpBpj7UDpWjx')\n",
    "\n",
    "from plotly.offline import init_notebook_mode, plot, iplot\n",
    "init_notebook_mode(connected=False)\n",
    "\n",
    "import pandas_datareader as web\n",
    "from datetime import datetime\n",
    "from datetime import timedelta\n",
    "\n",
    "import quandl\n",
    "quandl.ApiConfig.api_key = 'nsy8rWAh437rbeYNtmnX'\n",
    "import pandas as pd\n",
    "import numpy as np\n",
    "import time\n",
    "import os\n",
    "\n",
    "import plotly.offline as offline\n",
    "offline.init_notebook_mode()\n",
    "\n",
    "from IPython.display import clear_output"
   ]
  },
  {
   "cell_type": "code",
   "execution_count": null,
   "metadata": {},
   "outputs": [],
   "source": [
    "dirlist=os.listdir(\"datawarehouse/\")\n",
    "#down load the data by steps\n",
    "Lev1=100\n",
    "Lev11=150\n",
    "Lev2=200\n",
    "Lev3=300\n",
    "#range(Lev1) has finished!!\n",
    "#range(Lev1,Lev11) has finished!!"
   ]
  },
  {
   "cell_type": "code",
   "execution_count": null,
   "metadata": {},
   "outputs": [],
   "source": [
    "for Iter in range(Lev1,Lev11):\n",
    "    data=pd.read_csv(\"datawarehouse/\"+dirlist[Iter]).reset_index()\n",
    "    data.Date=pd.to_datetime(data.Date)\n",
    "\n",
    "    subdat=data[data.Date>=\"2016-01-01\"]\n",
    "    subdat.index=range(subdat.shape[0])\n",
    "\n",
    "    print(\"working on\"+dirlist[Iter])\n",
    "    i=0\n",
    "    pre_return=list()\n",
    "    #os.mkdir(\"figs\")\n",
    "    ll=1\n",
    "    while i in range(subdat.shape[0]):\n",
    "        j=i+30#end of day\n",
    "        predate=j+1\n",
    "        #ends if reaching end point\n",
    "        if predate>=(subdat.shape[0]-1):\n",
    "            break\n",
    "        tmpsubdf=subdat.iloc[i:j,]\n",
    "        trace = go.Candlestick(x=tmpsubdf.Date,\n",
    "                           open=tmpsubdf.Open,\n",
    "                           high=tmpsubdf.High,\n",
    "                           low=tmpsubdf.Low,\n",
    "                           close=tmpsubdf.Close)\n",
    "        tmpdat = [trace]\n",
    "        #py.image.save_as(Figure(data=tmpdat), \n",
    "        #                 filename='figs/'+dirlist[0]+\"_\"+str(ll)+'.png',width=500, height=500)\n",
    "        layout = go.Layout(showlegend=False)\n",
    "        offline.iplot(go.Figure(data=tmpdat,layout=layout),\n",
    "                      image='png',\n",
    "                      filename='plotly_'+dirlist[Iter]+\"_\"+str(ll),\n",
    "                      image_height=500,\n",
    "                      image_width=500)\n",
    "        pre_return.append((subdat.Close[predate]-subdat.Close[i])/subdat.Close[i])\n",
    "        i=j\n",
    "        ll=ll+1\n",
    "        time.sleep(3)\n",
    "        #clear output\n",
    "        clear_output()\n",
    "    #write list to file\n",
    "    outF = open(dirlist[Iter]+\".txt\", \"w\")\n",
    "    for line in pre_return:\n",
    "      # write line to output file\n",
    "      outF.write(str(line))\n",
    "      outF.write(\"\\n\")\n",
    "    outF.close()\n",
    "    outF_proc = open(\"proc.txt\", \"w\")\n",
    "    outF_proc.write(str(Iter))\n",
    "    outF_proc.write(\"\\n\")\n",
    "print(\"finish!!!\")"
   ]
  },
  {
   "cell_type": "code",
   "execution_count": null,
   "metadata": {},
   "outputs": [],
   "source": [
    "offline.plot(go.Figure(data=tmpdat,layout=layout))"
   ]
  },
  {
   "cell_type": "code",
   "execution_count": null,
   "metadata": {},
   "outputs": [],
   "source": [
    "offline.iplot(go.Figure(data=tmpdat,layout=layout),\n",
    "                      image='png',\n",
    "                      filename='plotly_'+dirlist[Iter]+\"_\"+str(ll),\n",
    "                      image_height=500,\n",
    "                      image_width=500)"
   ]
  },
  {
   "cell_type": "code",
   "execution_count": null,
   "metadata": {},
   "outputs": [],
   "source": [
    "1+1"
   ]
  },
  {
   "cell_type": "code",
   "execution_count": null,
   "metadata": {},
   "outputs": [],
   "source": []
  }
 ],
 "metadata": {
  "kernelspec": {
   "display_name": "Python 3",
   "language": "python",
   "name": "python3"
  },
  "language_info": {
   "codemirror_mode": {
    "name": "ipython",
    "version": 3
   },
   "file_extension": ".py",
   "mimetype": "text/x-python",
   "name": "python",
   "nbconvert_exporter": "python",
   "pygments_lexer": "ipython3",
   "version": "3.6.4"
  }
 },
 "nbformat": 4,
 "nbformat_minor": 2
}
