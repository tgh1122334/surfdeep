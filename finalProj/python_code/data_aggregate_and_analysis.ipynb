{
 "cells": [
  {
   "cell_type": "code",
   "execution_count": null,
   "metadata": {},
   "outputs": [],
   "source": [
    "import numpy as np\n",
    "import pandas as pd\n",
    "from scipy import misc\n",
    "import matplotlib.pyplot as plt\n",
    "import os\n",
    "import glob"
   ]
  },
  {
   "cell_type": "code",
   "execution_count": null,
   "metadata": {},
   "outputs": [],
   "source": [
    "import numpy as np\n",
    "import matplotlib.pyplot as plt\n",
    "import matplotlib.image as mpimg\n",
    "\n",
    "def rgb2gray(rgb):\n",
    "    return np.dot(rgb[...,:3], [0.299, 0.587, 0.114])"
   ]
  },
  {
   "cell_type": "code",
   "execution_count": null,
   "metadata": {},
   "outputs": [],
   "source": [
    "dirlist=os.listdir(\"datawarehouse/\")\n",
    "Lev1=100\n",
    "dirlist_used=dirlist[0:Lev1]"
   ]
  },
  {
   "cell_type": "code",
   "execution_count": null,
   "metadata": {},
   "outputs": [],
   "source": [
    "#initial input and output\n",
    "Image_input=np.ones([1,500,500])\n",
    "Return_output=np.ones(1)"
   ]
  },
  {
   "cell_type": "markdown",
   "metadata": {},
   "source": [
    "### Example for load single stock!"
   ]
  },
  {
   "cell_type": "code",
   "execution_count": null,
   "metadata": {},
   "outputs": [],
   "source": [
    "# initial input and output\n",
    "Image_input=np.ones([1,500,500])\n",
    "Return_output=np.ones(1)\n",
    "Iter=dirlist_used[0]\n",
    "#Iter_list=glob.glob('/home/li/tmp_image_download/plotly_'+Iter+\"*\")\n",
    "tmpReturn=pd.read_csv(Iter+\".txt\",header=None)\n",
    "tmpReturn=np.array(tmpReturn)\n",
    "for tmpi in range(1,tmpReturn.shape[0]+1):\n",
    "    #read the image\n",
    "    tmpImg=misc.imread('/home/li/tmp_image_download/plotly_'+Iter+\"_\"+str(tmpi)+\".png\")\n",
    "    print(tmpi)\n",
    "    tmpImg=rgb2gray(tmpImg)\n",
    "    Image_input=np.concatenate((Image_input,tmpImg[None]),axis=0)\n",
    "    Return_output=np.append(Return_output,tmpReturn[tmpi-1])"
   ]
  },
  {
   "cell_type": "code",
   "execution_count": null,
   "metadata": {},
   "outputs": [],
   "source": [
    "print(Image_input.shape)\n",
    "print(Return_output.shape)"
   ]
  },
  {
   "cell_type": "markdown",
   "metadata": {},
   "source": [
    "## Series code for load bunch od data!!!"
   ]
  },
  {
   "cell_type": "code",
   "execution_count": null,
   "metadata": {},
   "outputs": [],
   "source": [
    "dirlist=os.listdir(\"datawarehouse/\")\n",
    "Lev1=100\n",
    "dirlist_used=dirlist[0:Lev1]\n",
    "#initial arrays\n",
    "Image_input=np.ones([1,500,500])\n",
    "Return_output=np.ones(1)\n",
    "\n",
    "\n",
    "for Iter in dirlist_used:\n",
    "    print(\"starting on \"+Iter)\n",
    "    try:\n",
    "        tmpReturn=pd.read_csv(Iter+\".txt\",header=None)\n",
    "    except:\n",
    "        print(\"error on \"+ Iter)\n",
    "        continue\n",
    "    tmpReturn=np.array(tmpReturn)\n",
    "    for tmpi in range(1,tmpReturn.shape[0]+1):\n",
    "        #read the image\n",
    "        try:\n",
    "            tmpImg=misc.imread('/home/li/tmp_image_download/plotly_'+Iter+\"_\"+str(tmpi)+\".png\")\n",
    "        except:\n",
    "            print(\"error on \"+ str(tmpi))\n",
    "            continue\n",
    "        tmpImg=rgb2gray(tmpImg)\n",
    "        Image_input=np.concatenate((Image_input,tmpImg[None]),axis=0)\n",
    "        Return_output=np.append(Return_output,tmpReturn[tmpi-1])"
   ]
  },
  {
   "cell_type": "code",
   "execution_count": null,
   "metadata": {},
   "outputs": [],
   "source": [
    "print(Image_input.shape)\n",
    "print(Return_output.shape)"
   ]
  },
  {
   "cell_type": "code",
   "execution_count": null,
   "metadata": {},
   "outputs": [],
   "source": [
    "#save data\n",
    "np.save(file=\"image_input\",arr=Image_input)\n",
    "np.save(file=\"return_output\",arr=Return_output)"
   ]
  },
  {
   "cell_type": "markdown",
   "metadata": {},
   "source": [
    "## Try for a CNN now!"
   ]
  },
  {
   "cell_type": "code",
   "execution_count": null,
   "metadata": {},
   "outputs": [],
   "source": [
    "from __future__ import print_function\n",
    "import keras\n",
    "from keras.datasets import mnist\n",
    "from keras.models import Sequential\n",
    "from keras.layers import Dense, Dropout, Flatten\n",
    "from keras.layers import Conv2D, MaxPooling2D\n",
    "from keras import backend as K"
   ]
  },
  {
   "cell_type": "code",
   "execution_count": null,
   "metadata": {},
   "outputs": [],
   "source": [
    "batch_size = 32\n",
    "num_classes = 2\n",
    "epochs = 2\n",
    "\n",
    "# input image dimensions\n",
    "img_rows, img_cols = 500, 500\n",
    "\n",
    "#load the data\n",
    "Image_input=np.load('image_input.npy')\n",
    "Return_output=np.load(\"return_output.npy\")"
   ]
  },
  {
   "cell_type": "code",
   "execution_count": null,
   "metadata": {},
   "outputs": [],
   "source": [
    "from sklearn.model_selection import train_test_split\n",
    "#split into training and testing set\n",
    "X_train, X_test, y_train, y_test = train_test_split(Image_input, Return_output, test_size=0.2, random_state=42)\n"
   ]
  },
  {
   "cell_type": "code",
   "execution_count": null,
   "metadata": {},
   "outputs": [],
   "source": [
    "#create sign of Y\n",
    "y_train_Binary=np.sign(y_train)\n",
    "y_test_Binary=np.sign(y_test)"
   ]
  },
  {
   "cell_type": "markdown",
   "metadata": {},
   "source": [
    "### Create a CNN model"
   ]
  },
  {
   "cell_type": "code",
   "execution_count": null,
   "metadata": {},
   "outputs": [],
   "source": [
    "num_classes = 2\n",
    "y_train_Binary = keras.utils.to_categorical(y_train_Binary, 2)\n",
    "y_test_Binary = keras.utils.to_categorical(y_test_Binary, 2)"
   ]
  },
  {
   "cell_type": "code",
   "execution_count": null,
   "metadata": {},
   "outputs": [],
   "source": [
    "X_train = X_train.reshape(X_train.shape[0], img_rows, img_cols, 1)\n",
    "X_test = X_test.reshape(X_test.shape[0], img_rows, img_cols, 1)\n",
    "input_shape = (img_rows, img_cols, 1)\n",
    "\n",
    "X_train = X_train.astype('float32')\n",
    "X_test = X_test.astype('float32')"
   ]
  },
  {
   "cell_type": "code",
   "execution_count": null,
   "metadata": {},
   "outputs": [],
   "source": [
    "print('x_train shape:', X_train.shape)\n",
    "print(X_train.shape[0], 'train samples')\n",
    "print(X_test.shape[0], 'test samples')\n",
    "input_shape"
   ]
  },
  {
   "cell_type": "code",
   "execution_count": null,
   "metadata": {},
   "outputs": [],
   "source": [
    "model = Sequential()\n",
    "model.add(Conv2D(32, kernel_size=(50, 50),\n",
    "                 activation='relu',\n",
    "                 input_shape=input_shape))\n",
    "model.add(Conv2D(32, (3, 3), activation='relu'))\n",
    "model.add(MaxPooling2D(pool_size=(20, 20)))\n",
    "model.add(Dropout(0.25))\n",
    "model.add(Flatten())\n",
    "model.add(Dense(128, activation='relu'))\n",
    "model.add(Dropout(0.5))\n",
    "model.add(Dense(num_classes, activation='softmax'))\n",
    "\n",
    "model.compile(loss=keras.losses.categorical_crossentropy,\n",
    "              optimizer=keras.optimizers.Adadelta(),\n",
    "              metrics=['accuracy'])"
   ]
  },
  {
   "cell_type": "code",
   "execution_count": null,
   "metadata": {},
   "outputs": [],
   "source": [
    "model.fit(X_train, y_train_Binary,\n",
    "          batch_size=batch_size,\n",
    "          epochs=epochs,\n",
    "          verbose=1,\n",
    "          validation_data=(X_test, y_test_Binary))\n",
    "score = model.evaluate(X_test, y_test_Binary, verbose=0)\n",
    "print('Test loss:', score[0])\n",
    "print('Test accuracy:', score[1])"
   ]
  },
  {
   "cell_type": "code",
   "execution_count": null,
   "metadata": {},
   "outputs": [],
   "source": [
    "#output predicted value\n",
    "Return_pre=model.predict_classes(X_train, verbose=1)"
   ]
  },
  {
   "cell_type": "code",
   "execution_count": null,
   "metadata": {},
   "outputs": [],
   "source": [
    "sum(Return_pre==1)"
   ]
  },
  {
   "cell_type": "code",
   "execution_count": null,
   "metadata": {},
   "outputs": [],
   "source": [
    "sum(np.sign(y_test)==-1)"
   ]
  },
  {
   "cell_type": "code",
   "execution_count": null,
   "metadata": {},
   "outputs": [],
   "source": []
  }
 ],
 "metadata": {
  "kernelspec": {
   "display_name": "Python 3",
   "language": "python",
   "name": "python3"
  },
  "language_info": {
   "codemirror_mode": {
    "name": "ipython",
    "version": 3
   },
   "file_extension": ".py",
   "mimetype": "text/x-python",
   "name": "python",
   "nbconvert_exporter": "python",
   "pygments_lexer": "ipython3",
   "version": "3.6.4"
  }
 },
 "nbformat": 4,
 "nbformat_minor": 2
}
