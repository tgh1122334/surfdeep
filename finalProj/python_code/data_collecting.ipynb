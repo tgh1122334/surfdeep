{
 "cells": [
  {
   "cell_type": "code",
   "execution_count": null,
   "metadata": {},
   "outputs": [],
   "source": [
    "#load modules\n",
    "import plotly\n",
    "import plotly.plotly as py\n",
    "import plotly.graph_objs as go\n",
    "plotly.tools.set_credentials_file(username='tgh1122334', api_key='1avaJWccIpBpj7UDpWjx')\n",
    "\n",
    "from plotly.offline import init_notebook_mode, plot, iplot\n",
    "init_notebook_mode(connected=False)\n",
    "\n",
    "import pandas_datareader as web\n",
    "from datetime import datetime\n",
    "from datetime import timedelta\n",
    "\n",
    "import quandl\n",
    "quandl.ApiConfig.api_key = 'nsy8rWAh437rbeYNtmnX'\n",
    "import pandas as pd\n",
    "import numpy as np\n",
    "import time\n",
    "import os"
   ]
  },
  {
   "cell_type": "code",
   "execution_count": null,
   "metadata": {},
   "outputs": [],
   "source": [
    "#read stock names\n",
    "symblist=pd.read_csv(\"../SP500.txt\")\n",
    "symblist.head()"
   ]
  },
  {
   "cell_type": "code",
   "execution_count": null,
   "metadata": {},
   "outputs": [],
   "source": [
    "#def valid stock list\n",
    "valid_symb=list()\n",
    "os.mkdir(\"datawarehouse\")"
   ]
  },
  {
   "cell_type": "code",
   "execution_count": null,
   "metadata": {},
   "outputs": [],
   "source": [
    "#loop\n",
    "for i in symblist.Symbols:\n",
    "    try:\n",
    "        data = quandl.get('WIKI/'+i,start_date='2010-01-01', end_date='2018-05-01')\n",
    "        data.to_csv(path_or_buf=\"datawarehouse/i\"+i+\".csv\")\n",
    "    except Exception:\n",
    "        print(i,\"failed!\")\n",
    "        continue\n",
    "    valid_symb.append(i)\n",
    "    print(i,\"finished!\")"
   ]
  },
  {
   "cell_type": "markdown",
   "metadata": {},
   "source": [
    "## set date and index"
   ]
  },
  {
   "cell_type": "code",
   "execution_count": null,
   "metadata": {},
   "outputs": [],
   "source": [
    "data=pd.read_csv(\"datawarehouse/iA.csv\").reset_index()"
   ]
  },
  {
   "cell_type": "code",
   "execution_count": null,
   "metadata": {},
   "outputs": [],
   "source": [
    "data.Date=pd.to_datetime(data.Date)"
   ]
  },
  {
   "cell_type": "code",
   "execution_count": null,
   "metadata": {},
   "outputs": [],
   "source": [
    "sum(data.Date>'2011-01-04')"
   ]
  },
  {
   "cell_type": "code",
   "execution_count": null,
   "metadata": {},
   "outputs": [],
   "source": [
    "datetime.strptime('2011-01-04','%Y-%M-%d')+timedelta(days=1)"
   ]
  },
  {
   "cell_type": "markdown",
   "metadata": {},
   "source": [
    "## reference form plotly website"
   ]
  },
  {
   "cell_type": "code",
   "execution_count": null,
   "metadata": {},
   "outputs": [],
   "source": [
    "df = pd.read_csv(\"datawarehouse/iA.csv\").reset_index()\n",
    "df.Date=pd.to_datetime(df.Date)\n",
    "df=df[df.Date>='2018-03-04']\n",
    "trace = go.Candlestick(x=df.Date,\n",
    "                       open=df.Open,\n",
    "                       high=df.High,\n",
    "                       low=df.Low,\n",
    "                       close=df.Close)\n",
    "tmpdat = [trace]\n",
    "py.iplot(tmpdat)"
   ]
  },
  {
   "cell_type": "code",
   "execution_count": null,
   "metadata": {},
   "outputs": [],
   "source": [
    "#code for saving!\n",
    "py.image.save_as(go.Figure(data=data), filename='a-simple-plot.png',width=500, height=500)"
   ]
  },
  {
   "cell_type": "code",
   "execution_count": null,
   "metadata": {},
   "outputs": [],
   "source": [
    "#code for setting range etc...\n",
    "layout = go.Layout(\n",
    "    yaxis=dict(\n",
    "        range=[60, 80]\n",
    "    )\n",
    ")\n",
    "fig = go.Figure(data=tmpdat, layout=layout)\n",
    "iplot(fig)#offline plot"
   ]
  },
  {
   "cell_type": "code",
   "execution_count": null,
   "metadata": {},
   "outputs": [],
   "source": [
    "?py.image.save_as"
   ]
  },
  {
   "cell_type": "markdown",
   "metadata": {},
   "source": [
    "## code for trail produce!\n",
    "### collect intotal 1000+ data\n",
    "###  Use the last 30 days result to predict next day return\n",
    "### initial price is the first day's close\n",
    "### ending price is the last next day's close"
   ]
  },
  {
   "cell_type": "code",
   "execution_count": null,
   "metadata": {},
   "outputs": [],
   "source": [
    "#load modules\n",
    "import plotly\n",
    "import plotly.graph_objs as go\n",
    "plotly.tools.set_credentials_file(username='tgh1122334', api_key='1avaJWccIpBpj7UDpWjx')\n",
    "\n",
    "from plotly.offline import init_notebook_mode, plot, iplot\n",
    "init_notebook_mode(connected=False)\n",
    "\n",
    "import pandas_datareader as web\n",
    "from datetime import datetime\n",
    "from datetime import timedelta\n",
    "\n",
    "import quandl\n",
    "quandl.ApiConfig.api_key = 'nsy8rWAh437rbeYNtmnX'\n",
    "import pandas as pd\n",
    "import numpy as np\n",
    "import time\n",
    "import os\n",
    "\n",
    "import plotly.offline as offline\n",
    "#from plotly.graph_objs import *\n",
    "offline.init_notebook_mode()\n"
   ]
  },
  {
   "cell_type": "code",
   "execution_count": null,
   "metadata": {},
   "outputs": [],
   "source": [
    "dirlist=os.listdir(\"datawarehouse/\")\n",
    "data=pd.read_csv(\"datawarehouse/\"+dirlist[0]).reset_index()\n",
    "data.Date=pd.to_datetime(data.Date)\n",
    "\n",
    "subdat=data[data.Date>=\"2016-01-01\"]\n",
    "subdat.index=range(subdat.shape[0])\n",
    "\n",
    "\n",
    "i=0\n",
    "pre_return=list()\n",
    "#os.mkdir(\"figs\")\n",
    "ll=1\n",
    "while i in range(subdat.shape[0]):\n",
    "    j=i+30#end of day\n",
    "    predate=j+1\n",
    "    #ends if reaching end point\n",
    "    if predate>=(subdat.shape[0]-1):\n",
    "        break\n",
    "    tmpsubdf=subdat.iloc[i:j,]\n",
    "    trace = go.Candlestick(x=tmpsubdf.Date,\n",
    "                       open=tmpsubdf.Open,\n",
    "                       high=tmpsubdf.High,\n",
    "                       low=tmpsubdf.Low,\n",
    "                       close=tmpsubdf.Close)\n",
    "    tmpdat = [trace]\n",
    "    #py.image.save_as(Figure(data=tmpdat), \n",
    "    #                 filename='figs/'+dirlist[0]+\"_\"+str(ll)+'.png',width=500, height=500)\n",
    "    offline.iplot(Figure(data=tmpdat),\n",
    "                  image='png',\n",
    "                  filename='plotly_'+dirlist[0]+\"_\"+str(ll),\n",
    "                  image_height=500,\n",
    "                  image_width=500)\n",
    "    pre_return.append((subdat.Close[predate]-subdat.Close[i])/subdat.Close[i])\n",
    "    i=j\n",
    "    ll=ll+1\n",
    "#write list to file\n",
    "outF = open(dirlist[0]+\".txt\", \"w\")\n",
    "for line in pre_return:\n",
    "  # write line to output file\n",
    "  outF.write(str(line))\n",
    "  outF.write(\"\\n\")\n",
    "outF.close()"
   ]
  },
  {
   "cell_type": "code",
   "execution_count": null,
   "metadata": {},
   "outputs": [],
   "source": [
    "offline.iplot(Figure(data=tmpdat),image='png',filename=\"1\",image_height=500,image_width=500)"
   ]
  },
  {
   "cell_type": "code",
   "execution_count": null,
   "metadata": {},
   "outputs": [],
   "source": [
    "?offline.iplot"
   ]
  },
  {
   "cell_type": "code",
   "execution_count": null,
   "metadata": {},
   "outputs": [],
   "source": [
    "plot([Scatter(x=[1, 2, 3], y=[3, 1, 6])], image='png', filename='/media/li/数据/repos/a.png')"
   ]
  },
  {
   "cell_type": "code",
   "execution_count": null,
   "metadata": {},
   "outputs": [],
   "source": [
    "PWD=\"/media/li\"\n",
    "#/数据/repos/surfdeep/finalProj/python_code/\""
   ]
  },
  {
   "cell_type": "code",
   "execution_count": null,
   "metadata": {},
   "outputs": [],
   "source": [
    "iplot(Figure(data=tmpdat),\n",
    "                  image='png',\n",
    "                  filename=PWD+str(ll),\n",
    "                  image_height=500,\n",
    "                  image_width=500)"
   ]
  },
  {
   "cell_type": "code",
   "execution_count": null,
   "metadata": {},
   "outputs": [],
   "source": [
    "PWD+str(ll)"
   ]
  },
  {
   "cell_type": "code",
   "execution_count": null,
   "metadata": {},
   "outputs": [],
   "source": [
    "?iplot"
   ]
  },
  {
   "cell_type": "code",
   "execution_count": null,
   "metadata": {},
   "outputs": [],
   "source": []
  }
 ],
 "metadata": {
  "kernelspec": {
   "display_name": "Python 3",
   "language": "python",
   "name": "python3"
  },
  "language_info": {
   "codemirror_mode": {
    "name": "ipython",
    "version": 3
   },
   "file_extension": ".py",
   "mimetype": "text/x-python",
   "name": "python",
   "nbconvert_exporter": "python",
   "pygments_lexer": "ipython3",
   "version": "3.6.4"
  }
 },
 "nbformat": 4,
 "nbformat_minor": 2
}
